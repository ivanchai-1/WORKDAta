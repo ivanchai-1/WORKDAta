{
 "cells": [
  {
   "cell_type": "code",
   "execution_count": 48,
   "metadata": {},
   "outputs": [],
   "source": [
    "import numpy as np\n",
    "import pandas as pd "
   ]
  },
  {
   "cell_type": "code",
   "execution_count": 49,
   "metadata": {},
   "outputs": [],
   "source": [
    "a = {\n",
    "    'Grades':[1,2,3,4],\n",
    "     'City':['Moscow','Saint-Pet','Moscow','Kaliningrad']\n",
    "     \n",
    "     \n",
    "     }\n",
    "\n",
    "\n",
    "data = pd.DataFrame(a)"
   ]
  },
  {
   "cell_type": "code",
   "execution_count": 50,
   "metadata": {},
   "outputs": [
    {
     "data": {
      "text/html": [
       "<div>\n",
       "<style scoped>\n",
       "    .dataframe tbody tr th:only-of-type {\n",
       "        vertical-align: middle;\n",
       "    }\n",
       "\n",
       "    .dataframe tbody tr th {\n",
       "        vertical-align: top;\n",
       "    }\n",
       "\n",
       "    .dataframe thead th {\n",
       "        text-align: right;\n",
       "    }\n",
       "</style>\n",
       "<table border=\"1\" class=\"dataframe\">\n",
       "  <thead>\n",
       "    <tr style=\"text-align: right;\">\n",
       "      <th></th>\n",
       "      <th>Grades</th>\n",
       "      <th>City</th>\n",
       "    </tr>\n",
       "  </thead>\n",
       "  <tbody>\n",
       "    <tr>\n",
       "      <th>0</th>\n",
       "      <td>1</td>\n",
       "      <td>Moscow</td>\n",
       "    </tr>\n",
       "    <tr>\n",
       "      <th>1</th>\n",
       "      <td>2</td>\n",
       "      <td>Saint-Pet</td>\n",
       "    </tr>\n",
       "    <tr>\n",
       "      <th>2</th>\n",
       "      <td>3</td>\n",
       "      <td>Moscow</td>\n",
       "    </tr>\n",
       "    <tr>\n",
       "      <th>3</th>\n",
       "      <td>4</td>\n",
       "      <td>Kaliningrad</td>\n",
       "    </tr>\n",
       "  </tbody>\n",
       "</table>\n",
       "</div>"
      ],
      "text/plain": [
       "   Grades         City\n",
       "0       1       Moscow\n",
       "1       2    Saint-Pet\n",
       "2       3       Moscow\n",
       "3       4  Kaliningrad"
      ]
     },
     "execution_count": 50,
     "metadata": {},
     "output_type": "execute_result"
    }
   ],
   "source": [
    "data"
   ]
  },
  {
   "cell_type": "code",
   "execution_count": 51,
   "metadata": {},
   "outputs": [
    {
     "data": {
      "text/html": [
       "<div>\n",
       "<style scoped>\n",
       "    .dataframe tbody tr th:only-of-type {\n",
       "        vertical-align: middle;\n",
       "    }\n",
       "\n",
       "    .dataframe tbody tr th {\n",
       "        vertical-align: top;\n",
       "    }\n",
       "\n",
       "    .dataframe thead th {\n",
       "        text-align: right;\n",
       "    }\n",
       "</style>\n",
       "<table border=\"1\" class=\"dataframe\">\n",
       "  <thead>\n",
       "    <tr style=\"text-align: right;\">\n",
       "      <th></th>\n",
       "      <th>city_name</th>\n",
       "      <th>english_name</th>\n",
       "      <th>food_type</th>\n",
       "    </tr>\n",
       "  </thead>\n",
       "  <tbody>\n",
       "    <tr>\n",
       "      <th>0</th>\n",
       "      <td>Санкт-Петербург</td>\n",
       "      <td>St. Petersburg</td>\n",
       "      <td>кофе с молоком</td>\n",
       "    </tr>\n",
       "    <tr>\n",
       "      <th>1</th>\n",
       "      <td>Санкт-Петербург</td>\n",
       "      <td>St. Petersburg</td>\n",
       "      <td>кофе с молоком</td>\n",
       "    </tr>\n",
       "    <tr>\n",
       "      <th>2</th>\n",
       "      <td>Москва</td>\n",
       "      <td>Moscow</td>\n",
       "      <td>кофе с сырком</td>\n",
       "    </tr>\n",
       "    <tr>\n",
       "      <th>3</th>\n",
       "      <td>Токио</td>\n",
       "      <td>Tokyo</td>\n",
       "      <td>напиток с кофеином с крендельком</td>\n",
       "    </tr>\n",
       "    <tr>\n",
       "      <th>4</th>\n",
       "      <td>Токио</td>\n",
       "      <td>Tokyo</td>\n",
       "      <td>суши.в</td>\n",
       "    </tr>\n",
       "    <tr>\n",
       "      <th>5</th>\n",
       "      <td>Токио</td>\n",
       "      <td>Tokyo</td>\n",
       "      <td>латте</td>\n",
       "    </tr>\n",
       "    <tr>\n",
       "      <th>6</th>\n",
       "      <td>Франция</td>\n",
       "      <td>Franch</td>\n",
       "      <td>кофе с круасаном</td>\n",
       "    </tr>\n",
       "  </tbody>\n",
       "</table>\n",
       "</div>"
      ],
      "text/plain": [
       "         city_name    english_name                         food_type\n",
       "0  Санкт-Петербург  St. Petersburg                    кофе с молоком\n",
       "1  Санкт-Петербург  St. Petersburg                    кофе с молоком\n",
       "2           Москва          Moscow                     кофе с сырком\n",
       "3            Токио           Tokyo  напиток с кофеином с крендельком\n",
       "4            Токио           Tokyo                            суши.в\n",
       "5            Токио           Tokyo                             латте\n",
       "6          Франция          Franch                  кофе с круасаном"
      ]
     },
     "execution_count": 51,
     "metadata": {},
     "output_type": "execute_result"
    }
   ],
   "source": [
    "# Пример данных (вы можете заменить это реальными данными из Wikidata или других источников)\n",
    "city_data = [\n",
    "    {\"city_name\": \"Санкт-Петербург\", \"english_name\": \"St. Petersburg\",'food_type':'кофе с молоком'},\n",
    "    {\"city_name\": \"Санкт-Петербург\", \"english_name\": \"St. Petersburg\",'food_type':'кофе с молоком'},\n",
    "    {\"city_name\": \"Москва\", \"english_name\": \"Moscow\",'food_type':'кофе с сырком'},\n",
    "    {\"city_name\": \"Токио\", \"english_name\": \"Tokyo\",'food_type':'напиток с кофеином с крендельком'},\n",
    "    {\"city_name\": \"Токио\", \"english_name\": \"Tokyo\",'food_type':'суши.в'},\n",
    "    {\"city_name\": \"Токио\", \"english_name\": \"Tokyo\",'food_type':'латте'},\n",
    "    {\"city_name\": \"Франция\", \"english_name\": \"Franch\",'food_type':'кофе с круасаном'},\n",
    "    # Добавьте больше пар городов здесь\n",
    "]\n",
    "\n",
    "# Создаем DataFrame из примерных данных\n",
    "df = pd.DataFrame(city_data)\n",
    "df"
   ]
  },
  {
   "cell_type": "code",
   "execution_count": 52,
   "metadata": {},
   "outputs": [
    {
     "name": "stderr",
     "output_type": "stream",
     "text": [
      "C:\\Users\\Katarsis\\AppData\\Local\\Temp\\ipykernel_3972\\158911669.py:8: SettingWithCopyWarning: \n",
      "A value is trying to be set on a copy of a slice from a DataFrame.\n",
      "Try using .loc[row_indexer,col_indexer] = value instead\n",
      "\n",
      "See the caveats in the documentation: https://pandas.pydata.org/pandas-docs/stable/user_guide/indexing.html#returning-a-view-versus-a-copy\n",
      "  result['food_type'] = result['food_type'].str.replace('кофе', 'чашка кофе')\n"
     ]
    },
    {
     "data": {
      "text/html": [
       "<div>\n",
       "<style scoped>\n",
       "    .dataframe tbody tr th:only-of-type {\n",
       "        vertical-align: middle;\n",
       "    }\n",
       "\n",
       "    .dataframe tbody tr th {\n",
       "        vertical-align: top;\n",
       "    }\n",
       "\n",
       "    .dataframe thead th {\n",
       "        text-align: right;\n",
       "    }\n",
       "</style>\n",
       "<table border=\"1\" class=\"dataframe\">\n",
       "  <thead>\n",
       "    <tr style=\"text-align: right;\">\n",
       "      <th></th>\n",
       "      <th>city_name</th>\n",
       "      <th>english_name</th>\n",
       "      <th>food_type</th>\n",
       "    </tr>\n",
       "  </thead>\n",
       "  <tbody>\n",
       "    <tr>\n",
       "      <th>0</th>\n",
       "      <td>Санкт-Петербург</td>\n",
       "      <td>St. Petersburg</td>\n",
       "      <td>чашка кофе с молоком</td>\n",
       "    </tr>\n",
       "    <tr>\n",
       "      <th>1</th>\n",
       "      <td>Санкт-Петербург</td>\n",
       "      <td>St. Petersburg</td>\n",
       "      <td>чашка кофе с молоком</td>\n",
       "    </tr>\n",
       "    <tr>\n",
       "      <th>2</th>\n",
       "      <td>Москва</td>\n",
       "      <td>Moscow</td>\n",
       "      <td>чашка кофе с сырком</td>\n",
       "    </tr>\n",
       "    <tr>\n",
       "      <th>5</th>\n",
       "      <td>Токио</td>\n",
       "      <td>Tokyo</td>\n",
       "      <td>латте</td>\n",
       "    </tr>\n",
       "    <tr>\n",
       "      <th>6</th>\n",
       "      <td>Франция</td>\n",
       "      <td>Franch</td>\n",
       "      <td>чашка кофе с круасаном</td>\n",
       "    </tr>\n",
       "  </tbody>\n",
       "</table>\n",
       "</div>"
      ],
      "text/plain": [
       "         city_name    english_name               food_type\n",
       "0  Санкт-Петербург  St. Petersburg    чашка кофе с молоком\n",
       "1  Санкт-Петербург  St. Petersburg    чашка кофе с молоком\n",
       "2           Москва          Moscow     чашка кофе с сырком\n",
       "5            Токио           Tokyo                   латте\n",
       "6          Франция          Franch  чашка кофе с круасаном"
      ]
     },
     "execution_count": 52,
     "metadata": {},
     "output_type": "execute_result"
    }
   ],
   "source": [
    "l=['кофе','лат']\n",
    "exclude_words = ['кофеин']\n",
    "# df[~df['food_type'].str.contains('|'.join(exclude_words))].str.contains('|'.join(l))\n",
    "f_df = df[~df['food_type'].str.contains('|'.join(exclude_words))]\n",
    "\n",
    "# Проверяем, содержит ли каждая строка слово 'кофе'\n",
    "result = f_df[f_df['food_type'].str.contains('|'.join(l))]\n",
    "result['food_type'] = result['food_type'].str.replace('кофе', 'чашка кофе')\n",
    "\n",
    "result "
   ]
  },
  {
   "cell_type": "code",
   "execution_count": 53,
   "metadata": {},
   "outputs": [
    {
     "data": {
      "text/plain": [
       "5"
      ]
     },
     "execution_count": 53,
     "metadata": {},
     "output_type": "execute_result"
    }
   ],
   "source": [
    "len(result)"
   ]
  },
  {
   "cell_type": "code",
   "execution_count": 54,
   "metadata": {},
   "outputs": [
    {
     "data": {
      "text/plain": [
       "{'латте',\n",
       " 'чашка кофе с круасаном',\n",
       " 'чашка кофе с молоком',\n",
       " 'чашка кофе с сырком'}"
      ]
     },
     "execution_count": 54,
     "metadata": {},
     "output_type": "execute_result"
    }
   ],
   "source": [
    "unique_food_types = set(result['food_type'])\n",
    "unique_food_types "
   ]
  },
  {
   "cell_type": "code",
   "execution_count": 55,
   "metadata": {},
   "outputs": [
    {
     "name": "stdout",
     "output_type": "stream",
     "text": [
      "{'o', 'h', 'e', 'l'}\n"
     ]
    }
   ],
   "source": [
    "my_string = \"hello\"\n",
    "unique_characters = set(my_string)\n",
    "print(unique_characters)  # Вывод: {'h', 'e', 'o', 'l'}\n"
   ]
  },
  {
   "cell_type": "code",
   "execution_count": null,
   "metadata": {},
   "outputs": [],
   "source": []
  }
 ],
 "metadata": {
  "kernelspec": {
   "display_name": "Python 3",
   "language": "python",
   "name": "python3"
  },
  "language_info": {
   "codemirror_mode": {
    "name": "ipython",
    "version": 3
   },
   "file_extension": ".py",
   "mimetype": "text/x-python",
   "name": "python",
   "nbconvert_exporter": "python",
   "pygments_lexer": "ipython3",
   "version": "3.11.5"
  }
 },
 "nbformat": 4,
 "nbformat_minor": 2
}
